{
  "nbformat": 4,
  "nbformat_minor": 0,
  "metadata": {
    "kernelspec": {
      "display_name": "Python 3",
      "language": "python",
      "name": "python3"
    },
    "language_info": {
      "codemirror_mode": {
        "name": "ipython",
        "version": 3
      },
      "file_extension": ".py",
      "mimetype": "text/x-python",
      "name": "python",
      "nbconvert_exporter": "python",
      "pygments_lexer": "ipython3",
      "version": "3.7.4"
    },
    "colab": {
      "name": "Handwritign Digits Recognition.ipynb",
      "provenance": []
    }
  },
  "cells": [
    {
      "cell_type": "code",
      "metadata": {
        "id": "5nemO4cVgQUF",
        "colab_type": "code",
        "colab": {
          "base_uri": "https://localhost:8080/",
          "height": 536
        },
        "outputId": "53e06e32-6e56-4708-ca02-8b7b38c445ce"
      },
      "source": [
        "import tensorflow as tf\n",
        "from tensorflow import keras\n",
        "\n",
        "def train_mnist():\n",
        "    class myCallback(tf.keras.callbacks.Callback):\n",
        "        def on_epoch_end(self, epoch, logs={}):\n",
        "            if(logs.get('loss')<0.01):\n",
        "              print(\"\\nReached 99% accuracy so cancelling training!\")\n",
        "              self.model.stop_training = True\n",
        "    \n",
        "    callbacks = myCallback()\n",
        "\n",
        "    mnist = tf.keras.datasets.mnist\n",
        "\n",
        "    (x_train, y_train),(x_test, y_test) = mnist.load_data()\n",
        "    \n",
        "    x_train  = x_train / 255.0\n",
        "    x_test = x_test / 255.0\n",
        "    \n",
        "    model = tf.keras.models.Sequential([\n",
        "        tf.keras.layers.Flatten(), \n",
        "        tf.keras.layers.Dense(128, activation=tf.nn.relu), \n",
        "        tf.keras.layers.Dense(10, activation=tf.nn.softmax)\n",
        "    ])\n",
        "\n",
        "    model.compile(optimizer='adam',\n",
        "                  loss='sparse_categorical_crossentropy',\n",
        "                  metrics=['accuracy'])\n",
        "    \n",
        "    \n",
        "    history = model.fit(x_train, y_train,epochs=10, callbacks=[callbacks])\n",
        "    \n",
        "    return history.epoch, history.history['acc'][-1]\n",
        "\n",
        "train_mnist()"
      ],
      "execution_count": 1,
      "outputs": [
        {
          "output_type": "display_data",
          "data": {
            "text/html": [
              "<p style=\"color: red;\">\n",
              "The default version of TensorFlow in Colab will soon switch to TensorFlow 2.x.<br>\n",
              "We recommend you <a href=\"https://www.tensorflow.org/guide/migrate\" target=\"_blank\">upgrade</a> now \n",
              "or ensure your notebook will continue to use TensorFlow 1.x via the <code>%tensorflow_version 1.x</code> magic:\n",
              "<a href=\"https://colab.research.google.com/notebooks/tensorflow_version.ipynb\" target=\"_blank\">more info</a>.</p>\n"
            ],
            "text/plain": [
              "<IPython.core.display.HTML object>"
            ]
          },
          "metadata": {
            "tags": []
          }
        },
        {
          "output_type": "stream",
          "text": [
            "Downloading data from https://storage.googleapis.com/tensorflow/tf-keras-datasets/mnist.npz\n",
            "11493376/11490434 [==============================] - 1s 0us/step\n",
            "WARNING:tensorflow:From /usr/local/lib/python3.6/dist-packages/tensorflow_core/python/ops/resource_variable_ops.py:1630: calling BaseResourceVariable.__init__ (from tensorflow.python.ops.resource_variable_ops) with constraint is deprecated and will be removed in a future version.\n",
            "Instructions for updating:\n",
            "If using Keras pass *_constraint arguments to layers.\n",
            "Train on 60000 samples\n",
            "Epoch 1/10\n",
            "60000/60000 [==============================] - 4s 69us/sample - loss: 0.2628 - acc: 0.9254\n",
            "Epoch 2/10\n",
            "60000/60000 [==============================] - 4s 63us/sample - loss: 0.1137 - acc: 0.9660\n",
            "Epoch 3/10\n",
            "60000/60000 [==============================] - 4s 64us/sample - loss: 0.0780 - acc: 0.9763\n",
            "Epoch 4/10\n",
            "60000/60000 [==============================] - 4s 67us/sample - loss: 0.0563 - acc: 0.9828\n",
            "Epoch 5/10\n",
            "60000/60000 [==============================] - 4s 65us/sample - loss: 0.0427 - acc: 0.9867\n",
            "Epoch 6/10\n",
            "60000/60000 [==============================] - 4s 64us/sample - loss: 0.0339 - acc: 0.9893\n",
            "Epoch 7/10\n",
            "60000/60000 [==============================] - 4s 64us/sample - loss: 0.0270 - acc: 0.9919\n",
            "Epoch 8/10\n",
            "60000/60000 [==============================] - 4s 65us/sample - loss: 0.0220 - acc: 0.9933\n",
            "Epoch 9/10\n",
            "60000/60000 [==============================] - 4s 64us/sample - loss: 0.0179 - acc: 0.9941\n",
            "Epoch 10/10\n",
            "60000/60000 [==============================] - 4s 64us/sample - loss: 0.0142 - acc: 0.9957\n"
          ],
          "name": "stdout"
        },
        {
          "output_type": "execute_result",
          "data": {
            "text/plain": [
              "([0, 1, 2, 3, 4, 5, 6, 7, 8, 9], 0.9957333)"
            ]
          },
          "metadata": {
            "tags": []
          },
          "execution_count": 1
        }
      ]
    },
    {
      "cell_type": "code",
      "metadata": {
        "id": "SGXsUkYjgQUL",
        "colab_type": "code",
        "colab": {}
      },
      "source": [
        ""
      ],
      "execution_count": 0,
      "outputs": []
    }
  ]
}